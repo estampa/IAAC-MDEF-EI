{
  "nbformat": 4,
  "nbformat_minor": 0,
  "metadata": {
    "colab": {
      "name": "IAAC - 0 - Intro",
      "provenance": [],
      "collapsed_sections": []
    },
    "kernelspec": {
      "display_name": "Python 3",
      "name": "python3"
    },
    "accelerator": "GPU"
  },
  "cells": [
    {
      "cell_type": "markdown",
      "metadata": {
        "id": "5JeP7k82oCKG"
      },
      "source": [
        "This a Colaboratory notebook, a document containing information and executable code."
      ]
    },
    {
      "cell_type": "markdown",
      "metadata": {
        "id": "aro-UJgUQSH1"
      },
      "source": [
        "# Integration with Drive\n",
        "\n",
        "Colaboratory is integrated with Google Drive. It allows you to share, comment, and collaborate on the same document with multiple people:\n",
        "\n",
        "* **File->Make a Copy** creates a copy of the notebook in Drive.\n",
        "\n",
        "* **File->Save** saves the File to Drive. **File->Save and checkpoint** pins the version so it doesn't get deleted from the revision history. \n",
        "\n",
        "* **File->Revision history** shows the notebook's revision history. \n",
        "\n",
        "* The **Share** button (top-right of the toolbar) allows you to share the notebook and control permissions set on it.\n"
      ]
    },
    {
      "cell_type": "markdown",
      "metadata": {
        "id": "KR921S_OQSHG"
      },
      "source": [
        "# Runtime\n",
        "To execute the notebook, you must connect to a Runtime by clicking connect on the upper right corner.\n",
        "\n",
        "This runtime *is* a server in a datacenter somewhere. So everything that you do **here** is really done **there**.\n",
        "\n",
        "**When you stop the runtime everything you have not saved is lost.**\n",
        "\n",
        "When you finish working you have to remember to stop the runtime, because there is a time limit and to avoid wasting resources. To stop the runtime click **Manage Sessions** on the **Runtime** menu. Once the dialog opens click terminate on the current runtime. It's something like shutting down the computer.\n"
      ]
    },
    {
      "cell_type": "markdown",
      "metadata": {
        "id": "xaXbrlXGn7Ta"
      },
      "source": [
        "## Files\n",
        "\n",
        "Since everything that we do in colab is done on a remote server, all the files are also stored there. There is a simple file browser on the left column, it can be opened clicking in the 📁 icon."
      ]
    },
    {
      "cell_type": "markdown",
      "metadata": {
        "id": "JyG45Qk3qQLS"
      },
      "source": [
        "# Cells\n",
        "A notebook is a list of cells. Cells contain either explanatory text or executable code and its output. Click a cell to select it."
      ]
    },
    {
      "cell_type": "markdown",
      "metadata": {
        "id": "oVH4ONSoO0jf"
      },
      "source": [
        "## Code cells\n",
        "Below there's a **code cell**. Once you have connected to a Runtime click in the cell to select it and execute the contents clicking the **Play icon** in the left gutter of the cell.\n",
        "\n",
        "Once the cell has executed a green checkbox icon will be shown on the left.\n"
      ]
    },
    {
      "cell_type": "code",
      "metadata": {
        "cellView": "both",
        "id": "fIgjUg0xOeh5"
      },
      "source": [
        "10 + 10"
      ],
      "execution_count": null,
      "outputs": []
    },
    {
      "cell_type": "markdown",
      "metadata": {
        "id": "zv1yUcSgd27m"
      },
      "source": [
        "# Running a neural network"
      ]
    },
    {
      "cell_type": "markdown",
      "metadata": {
        "id": "CwiNe7DwCS-1"
      },
      "source": [
        "First we download the neural network from Github using the command [git](https://en.wikipedia.org/wiki/Git) clone. \n",
        "\n",
        "In this case we will install [Yolo v5](https://github.com/ultralytics/yolov5), an object detection neural network."
      ]
    },
    {
      "cell_type": "code",
      "metadata": {
        "id": "pp-h4jZkCSXg"
      },
      "source": [
        "# First we clone the Yolo V5 Github repository\n",
        "!git clone https://github.com/ultralytics/yolov5 "
      ],
      "execution_count": null,
      "outputs": []
    },
    {
      "cell_type": "markdown",
      "metadata": {
        "id": "_HCpwscjCfyb"
      },
      "source": [
        "Once downloaded we install the required libraries using the comand pip. In this case, as it is usual, they are listed in a file called requirements.txt\n",
        "\n",
        "This process may take some time."
      ]
    },
    {
      "cell_type": "code",
      "metadata": {
        "id": "DKSJbP86gp4_"
      },
      "source": [
        "# We enter the directory where it was downloaded\n",
        "%cd yolov5\n",
        "\n",
        "# We install the required python libraries (listed in the file requirements.txt)\n",
        "!pip install -qr requirements.txt  # install"
      ],
      "execution_count": null,
      "outputs": []
    },
    {
      "cell_type": "markdown",
      "metadata": {
        "id": "dG72nEReExwe"
      },
      "source": [
        "Now we can check that the network has been correctly installed."
      ]
    },
    {
      "cell_type": "code",
      "metadata": {
        "id": "A1C67eiJEvlh"
      },
      "source": [
        "# We import the newly installed library in python and run a check\n",
        "from yolov5 import utils\n",
        "yolov5_display = utils.notebook_init()"
      ],
      "execution_count": null,
      "outputs": []
    },
    {
      "cell_type": "markdown",
      "metadata": {
        "id": "7WzlbCIlplyY"
      },
      "source": [
        "Once the neural network and its required libraries are installed we download a previously trained weights/model file using the command wget."
      ]
    },
    {
      "cell_type": "code",
      "metadata": {
        "id": "gLqCFAa7p1wJ"
      },
      "source": [
        "!wget https://github.com/ultralytics/yolov5/releases/download/v6.0/yolov5m6.pt"
      ],
      "execution_count": null,
      "outputs": []
    },
    {
      "cell_type": "markdown",
      "metadata": {
        "id": "4JnkELT0cIJg"
      },
      "source": [
        "Now we are ready to process some images with the detect.py script that comes with the network. That what is called inference.\n",
        "\n",
        "`detect.py` runs YOLOv5 inference on a variety of sources and saving results to `runs/detect`. Example inference sources are:\n",
        "\n",
        "```shell\n",
        "python detect.py --source img.jpg  # image \n",
        "                          vid.mp4  # video\n",
        "                          path/  # directory                          \n",
        "                          'https://youtu.be/Zgi9g1ksQHc'  # YouTube\n",
        "                          'rtsp://example.com/media.mp4'  # RTSP, RTMP, HTTP stream\n",
        "```"
      ]
    },
    {
      "cell_type": "code",
      "metadata": {
        "id": "3Y-qz8R0FZLo"
      },
      "source": [
        "% cd /content/yolov5\n",
        "\n",
        "!python detect.py --weights yolov5m6.pt --img 1280 --conf-thres 0.25 --source data/images --exist-ok"
      ],
      "execution_count": null,
      "outputs": []
    },
    {
      "cell_type": "markdown",
      "metadata": {
        "id": "YVI6CiAyFi5w"
      },
      "source": [
        "Once processed we can see the result."
      ]
    },
    {
      "cell_type": "code",
      "metadata": {
        "id": "zR9ZbuQCH7FX"
      },
      "source": [
        "yolov5_display.Image(filename='runs/detect/exp/bus.jpg', width=600)"
      ],
      "execution_count": null,
      "outputs": []
    },
    {
      "cell_type": "markdown",
      "metadata": {
        "id": "wmHmebFTskt7"
      },
      "source": [
        "The way to modify the parameters of command line tools is with the use of the -- flags . We can try with the blachole image lowering the confidence threshold with the parameter `--conf-thres 0.05` . This way the neural network will show object detections that have a lower confidence.\n",
        "\n",
        "We can also uppload new files to the *yolov5/data/images* folder."
      ]
    },
    {
      "cell_type": "code",
      "metadata": {
        "id": "GXJ1eAzmv6hq"
      },
      "source": [
        "% cd /content/yolov5\n",
        "\n",
        "!python detect.py --weights yolov5m6.pt --img 1280 --conf-thres 0.05 --source data/images/blackhole.jpg --exist-ok\n",
        "\n",
        "yolov5_display.Image(filename='runs/detect/exp/blackhole.jpg', width=600)"
      ],
      "execution_count": null,
      "outputs": []
    },
    {
      "cell_type": "markdown",
      "metadata": {
        "id": "eAWGyY3UIsd1"
      },
      "source": [
        "# Files\n",
        "\n",
        "If you have executed all the commands in the file explorer you will two folders: *sample_data*, that is there by default, and *yolov5*, the network we have downloaded. Inside *yolov5/runs/detect/exp* you will see the images we have processed. You can **download** them one by one by clicking on the 3 dots icon that appear when you hover. But that's not practical.\n",
        "\n",
        "\n",
        "\n"
      ]
    },
    {
      "cell_type": "markdown",
      "metadata": {
        "id": "YF2Rj15Qxb3O"
      },
      "source": [
        "One way to solve it is by zipping all the files we want to download and downloading the resulting **zip** file. It can be done with the following code (in this case it downloads the processed images)"
      ]
    },
    {
      "cell_type": "code",
      "metadata": {
        "id": "0rfSWV1jLP0o"
      },
      "source": [
        "!zip -qr -0 /content/yolov5-exp.zip /content/yolov5/runs/detect/exp\n",
        "\n",
        "from google.colab import files\n",
        "files.download(\"/content/yolov5-exp.zip\")"
      ],
      "execution_count": null,
      "outputs": []
    },
    {
      "cell_type": "markdown",
      "metadata": {
        "id": "c4pnQh9yMTre"
      },
      "source": [
        "You can also **upload** files to be processed by using the upload icon in the file explorer or the upload option of the folder three dots menu.\n"
      ]
    },
    {
      "cell_type": "markdown",
      "metadata": {
        "id": "THnqWirZNRUG"
      },
      "source": [
        "## Google drive\n",
        "\n",
        "Google Colab can also be connected to Google Drive to facilitate file management. This way your drive content will appear as a folder on the remote server and you can read and write files to it. Let's see how it works.\n",
        "\n",
        "First we have to authorise the connection by executing the following code.\n",
        "\n",
        "\n",
        "> There will be some warnings ⚠⚠⚠ , and there's a good reason: if you do this, the colab notebook code will have access to all your files there. In this case you can trust me 👼\n",
        "\n"
      ]
    },
    {
      "cell_type": "code",
      "metadata": {
        "id": "aqmgiToaOQz3"
      },
      "source": [
        "from google.colab import drive\n",
        "drive.mount('/content/drive')"
      ],
      "execution_count": null,
      "outputs": []
    },
    {
      "cell_type": "markdown",
      "metadata": {
        "id": "0EeU5Ky7O-bA"
      },
      "source": [
        "Now in the file explorer you will see all your files and folders inside *drive/MyDrive* and you can use this path to read and write files.\n",
        "\n",
        "For instance, if you want, you can create a folder called *MDEF-EI* on your drive and then create an *input* and *output* folder inside. Place some pictures inside the *input* folder and execute the next script.\n",
        "\n",
        "You will se the processed *input* images in the *output* folder. They may take some time to appear, but eventually they will."
      ]
    },
    {
      "cell_type": "code",
      "metadata": {
        "id": "jiqSndEaP6zl"
      },
      "source": [
        "% cd /content/yolov5\n",
        "!python detect.py --weights yolov5m6.pt --img 1280 --conf 0.25 --source /content/drive/MyDrive/MDEF-EI/input --project /content/drive/MyDrive/MDEF-EI --name output --exist-ok"
      ],
      "execution_count": null,
      "outputs": []
    },
    {
      "cell_type": "markdown",
      "metadata": {
        "id": "9tgbkOxbkf8B"
      },
      "source": [
        "# Finalizing\n",
        "\n",
        "When you finish working you have to remember to **stop the runtime**, because there is a time limit and to avoid wasting resources. To stop the runtime click Manage Sessions on the Runtime menu. Once the dialog opens click terminate on the current runtime.\n",
        "\n",
        "> But when you stop the runtime everything you have not saved is ⚠ **lost** ⚠, so be sure to **download** everything you want to keep before stopping it.\n"
      ]
    }
  ]
}