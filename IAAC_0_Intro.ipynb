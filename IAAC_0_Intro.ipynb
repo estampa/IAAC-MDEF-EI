{
  "nbformat": 4,
  "nbformat_minor": 0,
  "metadata": {
    "colab": {
      "name": "IAAC - 0 - Intro",
      "provenance": []
    },
    "kernelspec": {
      "display_name": "Python 3",
      "name": "python3"
    },
    "accelerator": "GPU"
  },
  "cells": [
    {
      "cell_type": "markdown",
      "metadata": {
        "id": "5JeP7k82oCKG"
      },
      "source": [
        "This a Colaboratory notebook, a document containing information and executable code."
      ]
    },
    {
      "cell_type": "markdown",
      "metadata": {
        "id": "aro-UJgUQSH1"
      },
      "source": [
        "# Integration with Drive\n",
        "\n",
        "Colaboratory is integrated with Google Drive. It allows you to share, comment, and collaborate on the same document with multiple people:\n",
        "\n",
        "* **File->Make a Copy** creates a copy of the notebook in Drive.\n",
        "\n",
        "* **File->Save** saves the File to Drive. **File->Save and checkpoint** pins the version so it doesn't get deleted from the revision history.\n",
        "\n",
        "* **File->Revision history** shows the notebook's revision history.\n",
        "\n",
        "* The **Share** button (top-right of the toolbar) allows you to share the notebook and control permissions set on it.\n"
      ]
    },
    {
      "cell_type": "markdown",
      "metadata": {
        "id": "KR921S_OQSHG"
      },
      "source": [
        "# Runtime\n",
        "To execute the notebook, you must connect to a Runtime by clicking connect on the upper right corner.\n",
        "\n",
        "This runtime *is* a server in a datacenter somewhere. So everything that you do **here** is really done **there**.\n",
        "\n",
        "**When you stop the runtime everything you have not saved is lost.**\n",
        "\n",
        "When you finish working you have to remember to stop the runtime, because there is a time limit and to avoid wasting resources. To stop the runtime click **Manage Sessions** on the **Runtime** menu. Once the dialog opens click terminate on the current runtime. It's something like shutting down the computer.\n"
      ]
    },
    {
      "cell_type": "markdown",
      "metadata": {
        "id": "xaXbrlXGn7Ta"
      },
      "source": [
        "## Files\n",
        "\n",
        "Since everything that we do in colab is done on a remote server, all the files are also stored there. There is a simple file browser on the left column, it can be opened clicking in the 📁 icon."
      ]
    },
    {
      "cell_type": "markdown",
      "metadata": {
        "id": "JyG45Qk3qQLS"
      },
      "source": [
        "# Cells\n",
        "A notebook is a list of cells. Cells contain either explanatory text or executable code and its output. Click a cell to select it."
      ]
    },
    {
      "cell_type": "markdown",
      "metadata": {
        "id": "oVH4ONSoO0jf"
      },
      "source": [
        "## Code cells\n",
        "Below there's a **code cell**. Once you have connected to a Runtime click in the cell to select it and execute the contents clicking the **Play icon** in the left gutter of the cell.\n",
        "\n",
        "Once the cell has executed a green checkbox icon will be shown on the left.\n"
      ]
    },
    {
      "cell_type": "code",
      "metadata": {
        "cellView": "both",
        "id": "fIgjUg0xOeh5"
      },
      "source": [
        "10 + 10"
      ],
      "execution_count": null,
      "outputs": []
    },
    {
      "cell_type": "markdown",
      "source": [
        "Code cells can run Python code like before or execute system commands on the remote machine when preceeded with ! or %.\n",
        "\n",
        "In the next cell we list the contents of the current folder."
      ],
      "metadata": {
        "id": "9qeViaP-J4Pp"
      }
    },
    {
      "cell_type": "code",
      "source": [
        "!ls"
      ],
      "metadata": {
        "id": "DLkF4AcqKLFQ"
      },
      "execution_count": null,
      "outputs": []
    },
    {
      "cell_type": "markdown",
      "metadata": {
        "id": "zv1yUcSgd27m"
      },
      "source": [
        "# Running a neural network"
      ]
    },
    {
      "cell_type": "markdown",
      "metadata": {
        "id": "CwiNe7DwCS-1"
      },
      "source": [
        "First we install a library able to run different neural networks.\n",
        "\n",
        "In this case we will use [Huggingface Transformers](https://github.com/huggingface/transformers)."
      ]
    },
    {
      "cell_type": "code",
      "source": [
        "!pip install -q transformers"
      ],
      "metadata": {
        "id": "SvOI4TDZJMKs"
      },
      "execution_count": null,
      "outputs": []
    },
    {
      "cell_type": "markdown",
      "source": [
        "This library can run different tasks, you can check them [here](https://huggingface.co/models). In the next cell we will setup an image captioning task, so given an image it will ouput a description."
      ],
      "metadata": {
        "id": "hI1KV6BjKhkC"
      }
    },
    {
      "cell_type": "code",
      "source": [
        "from IPython.display import Image\n",
        "from transformers import pipeline\n",
        "\n",
        "captioner = pipeline(model=\"Salesforce/blip-image-captioning-large\")"
      ],
      "metadata": {
        "id": "93AW3QCgKg3O"
      },
      "execution_count": null,
      "outputs": []
    },
    {
      "cell_type": "markdown",
      "source": [
        "Once created we can caption images. In this case we specify a URL."
      ],
      "metadata": {
        "id": "o3IsT-O1NANz"
      }
    },
    {
      "cell_type": "code",
      "source": [
        "from IPython.display import Image\n",
        "Image(\"https://huggingface.co/datasets/Narsil/image_dummy/raw/main/parrots.png\")"
      ],
      "metadata": {
        "id": "bgiU_WAEQl_F"
      },
      "execution_count": null,
      "outputs": []
    },
    {
      "cell_type": "code",
      "source": [
        "captioner(\"https://huggingface.co/datasets/Narsil/image_dummy/raw/main/parrots.png\")"
      ],
      "metadata": {
        "id": "AQTL7AAoNAq2"
      },
      "execution_count": null,
      "outputs": []
    },
    {
      "cell_type": "markdown",
      "metadata": {
        "id": "c4pnQh9yMTre"
      },
      "source": [
        "You can also **upload** files to be processed by using the upload icon in the file explorer or the upload option of the folder three dots menu. And then we change the image path in the code.\n"
      ]
    },
    {
      "cell_type": "code",
      "source": [
        "captioner(\"blackhole.jpg\")"
      ],
      "metadata": {
        "id": "StkjTo2jM9zs"
      },
      "execution_count": null,
      "outputs": []
    },
    {
      "cell_type": "markdown",
      "metadata": {
        "id": "THnqWirZNRUG"
      },
      "source": [
        "## Google drive\n",
        "\n",
        "Google Colab can also be connected to Google Drive to facilitate file management. This way your drive content will appear as a folder on the remote server and you can read and write files to it. Let's see how it works.\n",
        "\n",
        "First we have to authorise the connection by executing the following code.\n",
        "\n",
        "\n",
        "> There will be some warnings ⚠⚠⚠ , and there's a good reason: if you do this, the colab notebook code will have access to all your files there. In this case you can trust me 👼\n",
        "\n"
      ]
    },
    {
      "cell_type": "code",
      "metadata": {
        "id": "aqmgiToaOQz3"
      },
      "source": [
        "from google.colab import drive\n",
        "drive.mount('/content/drive')"
      ],
      "execution_count": null,
      "outputs": []
    },
    {
      "cell_type": "markdown",
      "metadata": {
        "id": "0EeU5Ky7O-bA"
      },
      "source": [
        "Now in the file explorer you will see all your files and folders inside *drive/MyDrive* and you can use this path to read and write files.\n",
        "\n",
        "For instance, if you want, you can create a folder called *MDEF-EI* on your drive and then create an *input* folder inside. Place some pictures inside the *input* folder and execute the next code."
      ]
    },
    {
      "cell_type": "code",
      "metadata": {
        "id": "jiqSndEaP6zl"
      },
      "source": [
        "!pip -q install mediapy\n",
        "\n",
        "import os\n",
        "import mediapy as media\n",
        "\n",
        "images = []\n",
        "captions = []\n",
        "\n",
        "# list all the files in a folder\n",
        "input_folder = '/content/drive/MyDrive/MDEF-EI/input/'\n",
        "for filename in os.listdir(input_folder):\n",
        "  print(filename)\n",
        "  images.append(media.read_image(input_folder + filename))\n",
        "  caption = captioner(input_folder + filename)\n",
        "  captions.append(caption[0][\"generated_text\"])\n",
        "\n",
        "media.show_images(images, border=True, height=384, columns=2, titles=captions)"
      ],
      "execution_count": null,
      "outputs": []
    },
    {
      "cell_type": "markdown",
      "metadata": {
        "id": "9tgbkOxbkf8B"
      },
      "source": [
        "# Finalizing\n",
        "\n",
        "When you finish working you have to remember to **stop the runtime**, because there is a time limit and to avoid wasting resources. To stop the runtime click Manage Sessions on the Runtime menu. Once the dialog opens click terminate on the current runtime.\n",
        "\n",
        "> But when you stop the runtime everything you have not saved is ⚠ **lost** ⚠, so be sure to **download** everything you want to keep before stopping it.\n"
      ]
    }
  ]
}