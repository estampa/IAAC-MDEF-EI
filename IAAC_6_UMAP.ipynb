{
  "nbformat": 4,
  "nbformat_minor": 0,
  "metadata": {
    "colab": {
      "provenance": []
    },
    "kernelspec": {
      "name": "python3",
      "display_name": "Python 3"
    },
    "language_info": {
      "name": "python"
    },
    "accelerator": "GPU"
  },
  "cells": [
    {
      "cell_type": "markdown",
      "metadata": {
        "id": "zv1yUcSgd27m"
      },
      "source": [
        "# Sorting images using artificial intelligence\n",
        "\n",
        "\n",
        "## Outline\n",
        "\n",
        "1.   Install libraries and mount drive\n",
        "2.   Extract image features/embeddings\n",
        "3.   Reduce dimensionality using UMAP\n",
        "4.   Create a chart of the sorted images\n",
        "4.   Create a grid of the sorted images\n"
      ]
    },
    {
      "cell_type": "markdown",
      "metadata": {
        "id": "Vfz4rbrbLHQv"
      },
      "source": [
        "#Setup\n"
      ]
    },
    {
      "cell_type": "code",
      "metadata": {
        "id": "OnodEJASJ6G1",
        "cellView": "form"
      },
      "source": [
        "#@title ▶ Install the required tools\n",
        "\n",
        "!pip -q install pointgrid iiif-downloader yale-dhlab-rasterfairy yale-dhlab-keras-preprocessing\n",
        "!pip -q install umap-learn==0.5.1 hdbscan\n",
        "!pip -q install lap\n",
        "!pip -q install mediapy"
      ],
      "execution_count": null,
      "outputs": []
    },
    {
      "cell_type": "markdown",
      "metadata": {
        "id": "8RRN0GBfKaUx"
      },
      "source": [
        "## Google drive\n",
        "\n",
        "Connect Google Colab to Google Drive to facilitate file management. This way your drive content will appear as a folder on the remote server and you can read and write files to it. Let's see how it works.\n",
        "\n",
        "First we have to authorise the connection by executing the following code.\n",
        "\n",
        "> There will be some warnings ⚠⚠⚠ , and there's a good reason: if you do this, the colab notebook code will have access to all your files there. In this case you can trust me 👼\n",
        "\n"
      ]
    },
    {
      "cell_type": "code",
      "metadata": {
        "id": "QlvE_TV6KKQl"
      },
      "source": [
        "from google.colab import drive\n",
        "drive.mount('/content/drive')"
      ],
      "execution_count": null,
      "outputs": []
    },
    {
      "cell_type": "markdown",
      "metadata": {
        "id": "j96QYu5MNBDU"
      },
      "source": [
        "#Processing"
      ]
    },
    {
      "cell_type": "code",
      "metadata": {
        "id": "3ttBsZccYPgI",
        "cellView": "form"
      },
      "source": [
        "#@title ▶ Define necessary functions\n",
        "\n",
        "import datetime\n",
        "import glob\n",
        "import os\n",
        "import json\n",
        "import math\n",
        "\n",
        "from urllib.parse import unquote\n",
        "from tqdm import tqdm\n",
        "from PIL import Image, ImageDraw\n",
        "from google.colab import files\n",
        "import mediapy as media\n",
        "from matplotlib import pyplot as plt\n",
        "%matplotlib inline\n",
        "\n",
        "from scipy.spatial.distance import cdist\n",
        "from sklearn.decomposition import PCA\n",
        "import numpy as np\n",
        "import lap\n",
        "from umap import UMAP\n",
        "\n",
        "from tensorflow.keras.preprocessing.image import img_to_array\n",
        "from tensorflow.keras.applications.inception_v3 import preprocess_input\n",
        "from tensorflow.keras.preprocessing.image import load_img\n",
        "from tensorflow.keras.applications import InceptionV3\n",
        "from tensorflow.keras.models import Model\n",
        "\n",
        "\n",
        "def timestamp():\n",
        "    return str(datetime.datetime.now()) + ':'\n",
        "\n",
        "\n",
        "def clean_filename(s):\n",
        "    s = unquote(os.path.basename(s))\n",
        "    invalid_chars = '<>:;,\"/\\\\|?*[]'\n",
        "    for i in invalid_chars:\n",
        "        s = s.replace(i, '')\n",
        "    return s\n",
        "\n",
        "\n",
        "class Img:\n",
        "    def __init__(self, *args):\n",
        "        self.path = args[0]\n",
        "        self.original = load_img(self.path)\n",
        "\n",
        "\n",
        "def stream_images(image_path):\n",
        "    '''Read in all images from args[0], a list of image paths'''\n",
        "    for idx, i in enumerate(image_path):\n",
        "        try:\n",
        "            yield Img(i)\n",
        "        except Exception as exc:\n",
        "            print(timestamp(), 'Image', i, 'could not be processed --', exc)\n",
        "\n",
        "\n",
        "def get_inception_vectors(image_paths, out_dir):\n",
        "    print(timestamp(), 'Creating Inception vectors for {} images'.format(len(image_paths)))\n",
        "    vector_dir = os.path.join(out_dir, 'image-vectors', 'inception')\n",
        "    if not os.path.exists(vector_dir):\n",
        "        os.makedirs(vector_dir)\n",
        "    base = InceptionV3(include_top=True, weights='imagenet', )\n",
        "    model = Model(inputs=base.input, outputs=base.get_layer('avg_pool').output)\n",
        "    print(timestamp(), 'Creating image array')\n",
        "    vecs = []\n",
        "    with tqdm(total=len(image_paths)) as progress_bar:\n",
        "        for idx, i in enumerate(stream_images(image_paths)):\n",
        "            vector_path = os.path.join(vector_dir, clean_filename(i.path) + '.npy')\n",
        "            if os.path.exists(vector_path):\n",
        "                vec = np.load(vector_path)\n",
        "            else:\n",
        "                im = preprocess_input(img_to_array(i.original.resize((299, 299))))\n",
        "                vec = model.predict(np.expand_dims(im, 0)).squeeze()\n",
        "                np.save(vector_path, vec)\n",
        "            vecs.append(vec)\n",
        "            progress_bar.update(1)\n",
        "    return np.array(vecs)\n",
        "\n",
        "def generate_matrix(grid_xy, image_names, width, height, image_size, proportion_w, proportion_h, margin, background_color, swap=False):\n",
        "  pos_x = 0\n",
        "  pos_y = 1\n",
        "  if swap:\n",
        "    pos_x = 1\n",
        "    pos_y = 0\n",
        "\n",
        "  tile_size_dst_w = image_size\n",
        "  tile_size_dst_h = math.floor(tile_size_dst_w * proportion_h / proportion_w)\n",
        "\n",
        "  image_width = width * (tile_size_dst_w + 2 * margin)\n",
        "  image_height = height * (tile_size_dst_h + 2 * margin)\n",
        "\n",
        "  im = Image.new(\"RGB\", (image_width, image_height))\n",
        "\n",
        "  draw = ImageDraw.Draw(im)\n",
        "  draw.rectangle(((0, 0), (image_width, image_height)), fill=f'#{background_color}')\n",
        "\n",
        "  for idx, filename in enumerate(image_names):\n",
        "      pos = grid_xy[idx]\n",
        "\n",
        "      corr_pos = [pos[0]*(width-1)/width, pos[1]*(height-1)/height]\n",
        "\n",
        "      displ_x = tile_size_dst_w + 2 * margin;\n",
        "      displ_y = tile_size_dst_h + 2 * margin\n",
        "\n",
        "      left = int(margin + corr_pos[0]*image_width)\n",
        "      top = int(margin + corr_pos[1]*image_height)\n",
        "\n",
        "      tile_im = Image.open(os.path.join(input_path, filename))\n",
        "      tile_im.thumbnail((tile_size_dst_w, tile_size_dst_h), Image.Resampling.LANCZOS)\n",
        "      tile_w, tile_h = tile_im.size\n",
        "      tile_disp_w = math.floor((tile_size_dst_w - tile_w)/2)\n",
        "      tile_disp_h = math.floor((tile_size_dst_h - tile_h)/2)\n",
        "      im.paste(tile_im, (left + tile_disp_w, top + tile_disp_h))\n",
        "\n",
        "  output_image = os.path.join(output_path, f'{output_name}.jpg')\n",
        "  im.save(output_image, quality=90)\n",
        "  files.download(output_image)\n",
        "\n",
        "  im.resize((min(1920, image_width), min(1920, image_height)))\n",
        "  display(im)\n",
        "\n",
        "def get_umap_layout(vectors):\n",
        "  '''Get the x,y positions of images passed through a umap projection'''\n",
        "  w = PCA(n_components=min(100, len(vectors))).fit_transform(vectors)\n",
        "\n",
        "  model = UMAP(\n",
        "      n_neighbors=15,\n",
        "      min_dist=0.01,\n",
        "      n_components=2,\n",
        "      metric='correlation')\n",
        "      # random_state=27,\n",
        "      # transform_seed=27)\n",
        "  z = model.fit(w).embedding_\n",
        "  return z\n",
        "\n",
        "\n",
        "def get_grid_layout(data2d):\n",
        "  side = math.ceil(math.sqrt(len(imagelist)))\n",
        "  width = side\n",
        "  height = side if side * (side - 1) < len(imagelist) else side - 1\n",
        "\n",
        "  xv, yv = np.meshgrid(np.linspace(0, 1, width), np.linspace(0, 1, height))\n",
        "  grid = np.dstack((xv, yv)).reshape(-1, 2)\n",
        "\n",
        "  cost = cdist(grid, data2d, 'sqeuclidean')\n",
        "  cost = cost * (10000000. / cost.max())\n",
        "\n",
        "  # # # usant cost.astype(int) en principi és més ràpid, però no ens importa\n",
        "  min_cost, row_assigns, col_assigns = lap.lapjv(cost, extend_cost=True)\n",
        "  return width, height, grid[col_assigns]\n",
        "\n",
        "\n",
        "def generate_chart(data2d, image_names, image_size, proportion_w, proportion_h, background_color):\n",
        "  data2d -= data2d.min(axis=0)\n",
        "  data2d /= data2d.max(axis=0)\n",
        "\n",
        "  tile_size_dst_w = image_size\n",
        "  tile_size_dst_h = math.floor(tile_size_dst_w * proportion_h / proportion_w)\n",
        "\n",
        "  image_width = 1920\n",
        "  image_height = 1920\n",
        "\n",
        "  im = Image.new(\"RGB\", (image_width, image_height))\n",
        "\n",
        "  draw = ImageDraw.Draw(im)\n",
        "  draw.rectangle(((0, 0), (image_width, image_height)), fill=f'#{background_color}')\n",
        "\n",
        "  for idx, filename in enumerate(image_names):\n",
        "      pos = data2d[idx]\n",
        "\n",
        "      left = int(pos[0]*image_width)\n",
        "      top = int(pos[1]*image_height)\n",
        "\n",
        "      tile_im = Image.open(os.path.join(input_path, filename))\n",
        "      tile_im.thumbnail((tile_size_dst_w, tile_size_dst_h), Image.Resampling.LANCZOS)\n",
        "      tile_w, tile_h = tile_im.size\n",
        "      tile_disp_w = math.floor((tile_size_dst_w - tile_w)/2)\n",
        "      tile_disp_h = math.floor((tile_size_dst_h - tile_h)/2)\n",
        "      im.paste(tile_im, (left + tile_disp_w, top + tile_disp_h))\n",
        "\n",
        "  output_image = os.path.join(output_path, f'{output_name}-chart.jpg')\n",
        "  im.save(output_image, quality=90)\n",
        "  files.download(output_image)\n",
        "\n",
        "  display(im)"
      ],
      "execution_count": null,
      "outputs": []
    },
    {
      "cell_type": "code",
      "metadata": {
        "id": "mf0MBTZjLvgE",
        "cellView": "form"
      },
      "source": [
        "#@title ▶ Extract image features (embeddings) using an image classification neural network (InceptionV3)\n",
        "\n",
        "#@markdown We could use any other embedding model (https://huggingface.co/models?pipeline_tag=image-feature-extraction)\n",
        "\n",
        "#@markdown This should be the path of the folder inside Drive. The best way is to find it in the file explorer on the left, click on the 3 points, use the option \"copy path\" and paste the value here.\n",
        "\n",
        "#@markdown ⚠ All the images must be in jpg format.\n",
        "input_path = \"/content/drive/MyDrive/BAU-DwD/UMAP-cefalopodes\" #@param {type:\"string\"}\n",
        "#@markdown The name you want to give to the UMAP (it must not contain spaces)\n",
        "output_name = \"BAU\" #@param {type:\"string\"}\n",
        "\n",
        "output_path = os.path.join(\"/\", \"content\", output_name)\n",
        "\n",
        "imagelist = sorted(glob.glob(os.path.join(input_path, \"*.jpg\")) + glob.glob(os.path.join(input_path, \"*.png\")))\n",
        "vectors = get_inception_vectors(imagelist, os.path.join(\"/content\", output_name, \"data\"))"
      ],
      "execution_count": null,
      "outputs": []
    },
    {
      "cell_type": "code",
      "metadata": {
        "id": "nZJ6tt0zHIKp",
        "cellView": "form"
      },
      "source": [
        "#@title 🖼 Reduce dimensionality using UMAP\n",
        "\n",
        "#@markdown It may take some time depending on the number of images\n",
        "\n",
        "#@markdown It also displays the calculated positions in a 2D chart\n",
        "\n",
        "print(f'Reducing dimensionality from {len(vectors[0])} to 2 dimensions')\n",
        "\n",
        "data2d = get_umap_layout(vectors)\n",
        "np.save(os.path.join(\"/content\", output_name, \"data\", \"umap.npy\"), data2d)\n",
        "\n",
        "data2d -= data2d.min(axis=0)\n",
        "data2d /= data2d.max(axis=0)\n",
        "\n",
        "plt.figure(figsize=(8, 8))\n",
        "plt.scatter(data2d[:,0], data2d[:,1], s=12)\n",
        "plt.show()\n"
      ],
      "execution_count": null,
      "outputs": []
    },
    {
      "cell_type": "code",
      "source": [
        "#@title (optional) Download positions in json\n",
        "\n",
        "# create a json object with the positions and images\n",
        "\n",
        "def save_layout(imagelist, vectors, name):\n",
        "  data = []\n",
        "  for image, vector in zip(imagelist, vectors):\n",
        "      data.append({\n",
        "          \"image\": image,\n",
        "          \"x\": vector[0],\n",
        "          \"y\": vector[1]\n",
        "      })\n",
        "\n",
        "  output_json = os.path.join(\"/content\", output_name, \"data\", f\"{name}.json\")\n",
        "  with open(output_json, 'w') as outfile:\n",
        "      json.dump(data, outfile)\n",
        "\n",
        "  from google.colab import files\n",
        "  files.download(output_json)\n",
        "\n",
        "save_layout(imagelist, vectors.astype(float), \"umap\")"
      ],
      "metadata": {
        "cellView": "form",
        "id": "0sqdrdyBqZKY"
      },
      "execution_count": null,
      "outputs": []
    },
    {
      "cell_type": "code",
      "metadata": {
        "id": "Puo_brMj3sTh",
        "cellView": "form"
      },
      "source": [
        "#@title 🖼 Generate image chart\n",
        "\n",
        "#@markdown Individual image size. Big values make the grid image bigger and may fail.\n",
        "image_size = 128 #@param {type:\"number\"}\n",
        "\n",
        "#@markdown Individual image proportion. Leave at 1/1 if images have diferent orientations or 16/9 if they are frames from a video.\n",
        "proportion_w = 1 #@param {type:\"number\"}\n",
        "proportion_h = 1 #@param {type:\"number\"}\n",
        "\n",
        "#@markdown Background color in hexadecimal format (you can copy/paste from photoshop). 000000 is black, ffffff is white\n",
        "background_color = \"000000\" #@param {type:\"string\"}\n",
        "\n",
        "data2d = np.load(os.path.join(\"/content\", output_name, \"data\", \"umap.npy\"))\n",
        "\n",
        "generate_chart(data2d, imagelist, image_size, proportion_w, proportion_h, background_color)"
      ],
      "execution_count": null,
      "outputs": []
    },
    {
      "cell_type": "code",
      "metadata": {
        "id": "JQ_MkVuUIZmP"
      },
      "source": [
        "#@title 🖼 Convert from 2D positions to 2D grid\n",
        "\n",
        "#@markdown It also displays the calculated positions in a 2D grid\n",
        "\n",
        "data2d = np.load(os.path.join(\"/content\", output_name, \"data\", \"umap.npy\"))\n",
        "\n",
        "data2d -= data2d.min(axis=0)\n",
        "data2d /= data2d.max(axis=0)\n",
        "\n",
        "width, height, grid = get_grid_layout(data2d)\n",
        "np.save(os.path.join(\"/content\", output_name, \"data\", \"grid.npy\"), grid)\n",
        "\n",
        "plt.figure(figsize=(8,8))\n",
        "plt.scatter(grid[:,0], grid[:,1], marker='o', s=12)\n",
        "plt.show()\n"
      ],
      "execution_count": null,
      "outputs": []
    },
    {
      "cell_type": "code",
      "source": [
        "#@title (optional) Download grid positions in json\n",
        "\n",
        "save_layout(imagelist, grid.astype(float), \"grid\")"
      ],
      "metadata": {
        "cellView": "form",
        "id": "pcdEz-h3sWyz"
      },
      "execution_count": null,
      "outputs": []
    },
    {
      "cell_type": "code",
      "metadata": {
        "id": "2o-MqwxCaw4p",
        "cellView": "form"
      },
      "source": [
        "#@title 🖼 Generate image matrix\n",
        "\n",
        "#@markdown Individual image size. Big values make the grid image bigger and may fail.\n",
        "image_size = 64 #@param {type:\"number\"}\n",
        "\n",
        "#@markdown Individual image proportion. Leave at 1/1 if images have diferent orientations or 16/9 if they are frames from a video.\n",
        "proportion_w = 1 #@param {type:\"number\"}\n",
        "proportion_h = 1 #@param {type:\"number\"}\n",
        "\n",
        "#@markdown Margin between images (in pixels)\n",
        "margin = 0 #@param {type:\"number\"}\n",
        "\n",
        "#@markdown Background color in hexadecimal format (you can copy/paste from photoshop). 000000 is black, ffffff is white\n",
        "background_color = \"000000\" #@param {type:\"string\"}\n",
        "\n",
        "grid = np.load(os.path.join(\"/content\", output_name, \"data\", \"grid.npy\"))\n",
        "\n",
        "generate_matrix(grid, imagelist, width, height, image_size, proportion_w, proportion_h, margin, background_color)"
      ],
      "execution_count": null,
      "outputs": []
    },
    {
      "cell_type": "markdown",
      "metadata": {
        "id": "kNi8VV-wJDFi"
      },
      "source": [
        "# Credits\n",
        "\n",
        "Taller Estampa https://tallerestampa.com / https://github.com/estampa\n",
        "\n",
        "### Based on\n",
        "Kyle McDonald notebook https://github.com/kylemcdonald/CloudToGrid/blob/master/CloudToGrid.ipynb\n"
      ]
    }
  ]
}