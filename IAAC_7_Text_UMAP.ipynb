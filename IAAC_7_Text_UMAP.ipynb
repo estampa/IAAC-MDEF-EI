{
  "nbformat": 4,
  "nbformat_minor": 0,
  "metadata": {
    "colab": {
      "provenance": []
    },
    "kernelspec": {
      "name": "python3",
      "display_name": "Python 3"
    },
    "language_info": {
      "name": "python"
    }
  },
  "cells": [
    {
      "cell_type": "markdown",
      "metadata": {
        "id": "zv1yUcSgd27m"
      },
      "source": [
        "# Sorting texts using artificial intelligence\n",
        "\n",
        "\n",
        "## Outline\n",
        "\n",
        "1.   Install libraries and download data\n",
        "2.   Extract text features/embeddings\n",
        "3.   Reduce dimensionality using UMAP\n",
        "4.   Create an interactive plot of the texts\n"
      ]
    },
    {
      "cell_type": "markdown",
      "metadata": {
        "id": "Vfz4rbrbLHQv"
      },
      "source": [
        "#Setup\n"
      ]
    },
    {
      "cell_type": "code",
      "source": [
        "#@title ▶ Install the required tools\n",
        "\n",
        "!pip install -q sentence_transformers\n",
        "!pip install -q umap-learn hdbscan\n",
        "!pip install -q datasets"
      ],
      "metadata": {
        "id": "eqBGIxgsT7IZ",
        "cellView": "form"
      },
      "execution_count": null,
      "outputs": []
    },
    {
      "cell_type": "code",
      "source": [
        "#@title ▶ Download the embedding model\n",
        "\n",
        "from sentence_transformers import SentenceTransformer, util\n",
        "\n",
        "embedding_model = SentenceTransformer(\"all-MiniLM-L6-v2\")"
      ],
      "metadata": {
        "cellView": "form",
        "id": "rj_TD0bpG9R-"
      },
      "execution_count": null,
      "outputs": []
    },
    {
      "cell_type": "code",
      "source": [
        "#@title ▶ Load a dataset (from [Huggingface](https://huggingface.co/datasets))\n",
        "\n",
        "from datasets import load_dataset\n",
        "\n",
        "dataset = load_dataset(\"DReAMy-lib/DreamBank-dreams-en\")"
      ],
      "metadata": {
        "id": "3dKWrZitUTMS",
        "cellView": "form"
      },
      "execution_count": null,
      "outputs": []
    },
    {
      "cell_type": "code",
      "source": [
        "#@title ▶ Extract the first 1000 texts\n",
        "\n",
        "texts = dataset['train']['dreams'][0:1000]"
      ],
      "metadata": {
        "id": "NaaOQ7C7UOaD",
        "cellView": "form"
      },
      "execution_count": null,
      "outputs": []
    },
    {
      "cell_type": "markdown",
      "metadata": {
        "id": "j96QYu5MNBDU"
      },
      "source": [
        "#Processing"
      ]
    },
    {
      "cell_type": "code",
      "execution_count": null,
      "metadata": {
        "id": "_SltAiZ3SUHA",
        "cellView": "form"
      },
      "outputs": [],
      "source": [
        "#@title ▶ Calulate the position of the texts in the latent space (calculate the embedding)\n",
        "\n",
        "embeddings = embedding_model.encode(texts, convert_to_tensor=True, show_progress_bar=True)\n",
        "\n",
        "print(embeddings.shape)"
      ]
    },
    {
      "cell_type": "code",
      "source": [
        "#@title ▶ Convert from 384 dimensions to 2 dimensions\n",
        "\n",
        "from umap import UMAP\n",
        "\n",
        "model = UMAP(\n",
        "    n_components=2,\n",
        "    metric='cosine')\n",
        "embeddings_2d = model.fit_transform(embeddings)\n",
        "\n",
        "print(embeddings_2d.shape)"
      ],
      "metadata": {
        "id": "NZNirz0UdAwr",
        "cellView": "form"
      },
      "execution_count": null,
      "outputs": []
    },
    {
      "cell_type": "markdown",
      "metadata": {
        "id": "d7kXxWDVJ-7N"
      },
      "source": [
        "#Plotting"
      ]
    },
    {
      "cell_type": "code",
      "source": [
        "#@title ▶ Create an interactive chart\n",
        "\n",
        "import textwrap\n",
        "import plotly.express as px\n",
        "\n",
        "width = 48\n",
        "wrapped_texts = [\"<br>\".join(textwrap.wrap(text, width, break_long_words=False)) for text in texts]\n",
        "\n",
        "fig = px.scatter(hover_name=wrapped_texts, x=embeddings_2d[:,0], y=embeddings_2d[:,1])\n",
        "fig.show()"
      ],
      "metadata": {
        "id": "AzGfElgfev3v",
        "cellView": "form"
      },
      "execution_count": null,
      "outputs": []
    },
    {
      "cell_type": "markdown",
      "metadata": {
        "id": "kNi8VV-wJDFi"
      },
      "source": [
        "# Credits\n",
        "\n",
        "Taller Estampa https://tallerestampa.com / https://github.com/estampa\n"
      ]
    }
  ]
}