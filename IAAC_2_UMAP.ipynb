{
  "nbformat": 4,
  "nbformat_minor": 0,
  "metadata": {
    "colab": {
      "name": "IAAC - 2 - UMAP.ipynb",
      "provenance": [],
      "collapsed_sections": []
    },
    "kernelspec": {
      "name": "python3",
      "display_name": "Python 3"
    },
    "language_info": {
      "name": "python"
    },
    "accelerator": "GPU"
  },
  "cells": [
    {
      "cell_type": "markdown",
      "metadata": {
        "id": "Vfz4rbrbLHQv"
      },
      "source": [
        "#Setup\n"
      ]
    },
    {
      "cell_type": "code",
      "metadata": {
        "cellView": "form",
        "id": "OnodEJASJ6G1"
      },
      "source": [
        "#@title ▶ Installing the required tools\n",
        "\n",
        "!pip -q install --no-dependencies https://github.com/yaledhlab/pix-plot/archive/master.zip\n",
        "!pip -q install pointgrid iiif-downloader yale-dhlab-rasterfairy yale-dhlab-keras-preprocessing\n",
        "!pip -q install umap-learn==0.5.1 hdbscan"
      ],
      "execution_count": 2,
      "outputs": []
    },
    {
      "cell_type": "code",
      "metadata": {
        "cellView": "form",
        "id": "KHu1CnlOLIIq"
      },
      "source": [
        "#@title ▶ Define the required functions\n",
        "\n",
        "import os\n",
        "\n",
        "from PIL import Image, ImageDraw\n",
        "import json\n",
        "import math\n",
        "from google.colab import files\n",
        "\n",
        "def generate_matrix(image_size, proportion_w, proportion_h, margin, background_color):\n",
        "  imagelist = []\n",
        "  imagelist_path = os.path.join(output_path, \"data\", \"imagelists\", f\"imagelist-{output_name}.json\")\n",
        "  with open(imagelist_path) as imagelist_file:\n",
        "    imagelist = json.loads(imagelist_file.read())\n",
        "\n",
        "  image_sizes = imagelist[\"cell_sizes\"][0]\n",
        "  image_names = imagelist[\"images\"]\n",
        "\n",
        "  rasterfairy = []\n",
        "  rasterfairy_path = os.path.join(output_path, \"data\", \"layouts\", f\"rasterfairy-{output_name}.json\")\n",
        "  with open(rasterfairy_path) as rasterfairy_file:\n",
        "    rasterfairy = json.loads(rasterfairy_file.read())\n",
        "\n",
        "  width = math.ceil(math.sqrt(len(image_names)))\n",
        "  height = width\n",
        "\n",
        "  tile_size_dst_w = image_size\n",
        "  tile_size_dst_h = math.floor(tile_size_dst_w * proportion_h / proportion_w)\n",
        "\n",
        "  image_width = width * (tile_size_dst_w + 2 * margin)\n",
        "  image_height = height * (tile_size_dst_h + 2 * margin)\n",
        "\n",
        "  im = Image.new(\"RGB\", (image_width, image_height))\n",
        "\n",
        "  draw = ImageDraw.Draw(im)\n",
        "  draw.rectangle(((0, 0), (image_width, image_height)), fill=f'#{background_color}')\n",
        "\n",
        "  tile_w, tile_h = tile_size_dst_w, tile_size_dst_h\n",
        "\n",
        "  for idx, filename in enumerate(image_names):\n",
        "      pos = rasterfairy[idx]\n",
        "\n",
        "      corr_pos = [((pos[0]+1)/2)*(width-1)/width, ((pos[1]+1)/2)*(height-1)/height]\n",
        "\n",
        "      left = int(margin + corr_pos[0]*width*(tile_size_dst_w + 2 * margin))\n",
        "      top = int(margin + corr_pos[1]*height*(tile_size_dst_h + 2 * margin))\n",
        "\n",
        "      tile_im = Image.open(os.path.join(input_path, filename))\n",
        "      tile_im.thumbnail((tile_size_dst_w, tile_size_dst_h), Image.ANTIALIAS)\n",
        "      tile_w, tile_h = tile_im.size\n",
        "      tile_disp_w = math.floor((tile_size_dst_w - tile_w)/2)\n",
        "      tile_disp_h = math.floor((tile_size_dst_h - tile_h)/2)\n",
        "      im.paste(tile_im, (left + tile_disp_w, top + tile_disp_h))\n",
        "\n",
        "  output_image = os.path.join(output_path, f'{output_name}.jpg')\n",
        "  im.save(output_image, quality=90)\n",
        "  files.download(output_image)\n",
        "\n",
        "  im.resize((min(1920, image_width), min(1920, image_height)))\n",
        "  display(im)"
      ],
      "execution_count": 18,
      "outputs": []
    },
    {
      "cell_type": "markdown",
      "metadata": {
        "id": "8RRN0GBfKaUx"
      },
      "source": [
        "## Google drive\n",
        "\n",
        "Connect Google Colab to Google Drive to facilitate file management. This way your drive content will appear as a folder on the remote server and you can read and write files to it. Let's see how it works.\n",
        "\n",
        "First we have to authorise the connection by executing the following code.\n",
        "\n",
        "> There will be some warnings ⚠⚠⚠ , and there's a good reason: if you do this, the colab notebook code will have access to all your files there. In this case you can trust me 👼\n",
        "\n"
      ]
    },
    {
      "cell_type": "code",
      "metadata": {
        "colab": {
          "base_uri": "https://localhost:8080/"
        },
        "id": "QlvE_TV6KKQl",
        "outputId": "f201761b-c0eb-488d-e056-a2d976126ad6"
      },
      "source": [
        "from google.colab import drive\n",
        "drive.mount('/content/drive')"
      ],
      "execution_count": 4,
      "outputs": [
        {
          "output_type": "stream",
          "name": "stdout",
          "text": [
            "Mounted at /content/drive\n"
          ]
        }
      ]
    },
    {
      "cell_type": "markdown",
      "metadata": {
        "id": "j96QYu5MNBDU"
      },
      "source": [
        "#Processing"
      ]
    },
    {
      "cell_type": "code",
      "metadata": {
        "cellView": "form",
        "id": "mf0MBTZjLvgE"
      },
      "source": [
        "#@title ▶ Extract image features and reduce dimensionality\n",
        "\n",
        "#@markdown This should be the path of the folder inside Drive. The best way is to find it in the file explorer on the left, click on the 3 points, use the option \"copy path\" and paste the value here.\n",
        "\n",
        "#@markdown ⚠ All the images must be in jpg format.\n",
        "input_path = \"/content/drive/MyDrive/IAAC\" #@param {type:\"string\"}\n",
        "#@markdown The name you want to give to the UMAP (it must not contain spaces)\n",
        "output_name = \"IAAC\" #@param {type:\"string\"}\n",
        "\n",
        "input_glob = os.path.join(input_path, \"*.jpg\")\n",
        "output_path = os.path.join(\"/\", \"content\", output_name)\n",
        "\n",
        "!pixplot --images \"$input_glob\" --out_dir '$output_path' --plot_id $output_name"
      ],
      "execution_count": null,
      "outputs": []
    },
    {
      "cell_type": "code",
      "metadata": {
        "cellView": "form",
        "id": "2o-MqwxCaw4p"
      },
      "source": [
        "#@title 🖼 Generate image matrix\n",
        "\n",
        "#@markdown Individual image size\n",
        "image_size = 64 #@param {type:\"number\"}\n",
        "\n",
        "#@markdown Individual image proportion. Leave at 1/1 if images have diferent orientations or 16/9 if they are frames from a video.\n",
        "proportion_w = 1 #@param {type:\"number\"}\n",
        "proportion_h = 1 #@param {type:\"number\"}\n",
        "\n",
        "#@markdown Margin between images (in pixels)\n",
        "margin = 8 #@param {type:\"number\"}\n",
        "\n",
        "#@markdown Background color in hexadecimal format (you can copy/paste from photoshop). 000000 is black, ffffff is white\n",
        "background_color = \"000000\" #@param {type:\"string\"}\n",
        "\n",
        "generate_matrix(image_size, proportion_w, proportion_h, margin, background_color)"
      ],
      "execution_count": null,
      "outputs": []
    }
  ]
}